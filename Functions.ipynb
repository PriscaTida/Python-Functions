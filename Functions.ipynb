{
 "cells": [
  {
   "cell_type": "code",
   "execution_count": 1,
   "id": "7eb13d00",
   "metadata": {},
   "outputs": [
    {
     "name": "stdout",
     "output_type": "stream",
     "text": [
      "4\n"
     ]
    }
   ],
   "source": [
    "#Question 1\n",
    "def max_number(l):\n",
    "    result = max(l)\n",
    "    return result\n",
    "print(max_number([1,2,3,4]))"
   ]
  },
  {
   "cell_type": "code",
   "execution_count": 2,
   "id": "c87302da",
   "metadata": {},
   "outputs": [
    {
     "name": "stdout",
     "output_type": "stream",
     "text": [
      "The result is: (60, 20)\n"
     ]
    }
   ],
   "source": [
    "#Question 2\n",
    "def calculation(a,b):    \n",
    "    add = a+b\n",
    "    sub = a-b\n",
    "    return(add,sub)\n",
    "print(\"The result is:\",calculation(40,20))"
   ]
  },
  {
   "cell_type": "code",
   "execution_count": 20,
   "id": "eeaf550a",
   "metadata": {},
   "outputs": [
    {
     "name": "stdout",
     "output_type": "stream",
     "text": [
      "The list of elements whose position is even number is: [10, 13, 35, 17] . And the sum is 75\n",
      "The list of elements whose position is odd number is: [21, 43, 26, 28] . And the product is 657384\n"
     ]
    }
   ],
   "source": [
    "#Question 3\n",
    "def somme(l):         #Sum of element in list\n",
    "    addition = 0\n",
    "    for i in l:\n",
    "        addition = addition + i\n",
    "    return addition\n",
    "\n",
    "def produit(l):      #Product of element in list\n",
    "    product = 1\n",
    "    for i in l:\n",
    "        product = product *i\n",
    "    return product\n",
    "\n",
    "l1 = [10,21,13,43,35,26,17,28]\n",
    "even =[]\n",
    "odd = []\n",
    "for i in range(0,len(l1)):\n",
    "    if i%2 == 0:\n",
    "        even.append(l1[i])\n",
    "    else:\n",
    "        odd.append(l1[i])\n",
    "print(\"The list of elements whose position is even number is:\",even,\". And the sum is\",somme(even))\n",
    "print(\"The list of elements whose position is odd number is:\",odd,\". And the product is\",produit(odd))"
   ]
  },
  {
   "cell_type": "code",
   "execution_count": null,
   "id": "9f6817c1",
   "metadata": {},
   "outputs": [],
   "source": []
  },
  {
   "cell_type": "code",
   "execution_count": 1,
   "id": "8428a3bf",
   "metadata": {},
   "outputs": [
    {
     "name": "stdout",
     "output_type": "stream",
     "text": [
      "Enter hyphen-separated sequence of words: a-f-h-w\n",
      "['a', 'f', 'h', 'w']\n"
     ]
    }
   ],
   "source": [
    "#Question 4\n",
    "Words = input(\"Enter hyphen-separated sequence of words: \")\n",
    "x = Words.split(\"-\")\n",
    "x.sort()\n",
    "print(x)"
   ]
  },
  {
   "cell_type": "code",
   "execution_count": 12,
   "id": "108afc5e",
   "metadata": {},
   "outputs": [
    {
     "name": "stdout",
     "output_type": "stream",
     "text": [
      "Enter comma-separated sequence: 100,150,180\n",
      "Result:  [18, 22, 24]\n"
     ]
    }
   ],
   "source": [
    "#Question 5\n",
    "import math\n",
    "sequence = input(\"Enter comma-separated sequence: \")\n",
    "seq = sequence.split(\",\")\n",
    "D = list(map(int, seq))\n",
    "C = 50\n",
    "H = 30\n",
    "l = []\n",
    "for i in D:    \n",
    "    Q = round(math.sqrt((2 * C * i)/H))\n",
    "    l.append(Q)\n",
    "print(\"Result: \",l)\n"
   ]
  },
  {
   "cell_type": "code",
   "execution_count": null,
   "id": "dea0902a",
   "metadata": {},
   "outputs": [],
   "source": []
  },
  {
   "cell_type": "code",
   "execution_count": null,
   "id": "150fdb25",
   "metadata": {},
   "outputs": [],
   "source": []
  },
  {
   "cell_type": "code",
   "execution_count": null,
   "id": "4809ff38",
   "metadata": {},
   "outputs": [],
   "source": []
  },
  {
   "cell_type": "code",
   "execution_count": null,
   "id": "f0e40069",
   "metadata": {},
   "outputs": [],
   "source": []
  }
 ],
 "metadata": {
  "kernelspec": {
   "display_name": "Python 3 (ipykernel)",
   "language": "python",
   "name": "python3"
  },
  "language_info": {
   "codemirror_mode": {
    "name": "ipython",
    "version": 3
   },
   "file_extension": ".py",
   "mimetype": "text/x-python",
   "name": "python",
   "nbconvert_exporter": "python",
   "pygments_lexer": "ipython3",
   "version": "3.9.12"
  }
 },
 "nbformat": 4,
 "nbformat_minor": 5
}
